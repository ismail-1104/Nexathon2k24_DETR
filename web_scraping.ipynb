{
 "cells": [
  {
   "cell_type": "code",
   "execution_count": 38,
   "id": "eb5320cd",
   "metadata": {},
   "outputs": [],
   "source": [
    "import requests\n",
    "from bs4 import BeautifulSoup\n",
    "import os"
   ]
  },
  {
   "cell_type": "code",
   "execution_count": 39,
   "id": "93ae6bac",
   "metadata": {},
   "outputs": [],
   "source": [
    "url = \"https://www.google.com/search?sca_esv=da8686212ff90448&rlz=1C1JZAP_enIN968IN968&q=poster+images+hd&tbm=isch&source=lnms&prmd=isvnmbtz&sa=X&ved=2ahUKEwiZsZ_A44uFAxXjT2wGHbO0DpMQ0pQJegQIMRAB&biw=1366&bih=633&dpr=1\""
   ]
  },
  {
   "cell_type": "code",
   "execution_count": 40,
   "id": "ef5a9227",
   "metadata": {},
   "outputs": [
    {
     "data": {
      "text/plain": [
       "'https://www.google.com/search?sca_esv=da8686212ff90448&rlz=1C1JZAP_enIN968IN968&q=poster+images+hd&tbm=isch&source=lnms&prmd=isvnmbtz&sa=X&ved=2ahUKEwiZsZ_A44uFAxXjT2wGHbO0DpMQ0pQJegQIMRAB&biw=1366&bih=633&dpr=1'"
      ]
     },
     "execution_count": 40,
     "metadata": {},
     "output_type": "execute_result"
    }
   ],
   "source": [
    "url"
   ]
  },
  {
   "cell_type": "code",
   "execution_count": 41,
   "id": "027ed678",
   "metadata": {},
   "outputs": [],
   "source": [
    "response = requests.get(url)"
   ]
  },
  {
   "cell_type": "code",
   "execution_count": 42,
   "id": "8a3fe710",
   "metadata": {},
   "outputs": [
    {
     "data": {
      "text/plain": [
       "<Response [200]>"
      ]
     },
     "execution_count": 42,
     "metadata": {},
     "output_type": "execute_result"
    }
   ],
   "source": [
    "response"
   ]
  },
  {
   "cell_type": "code",
   "execution_count": 43,
   "id": "5b343326",
   "metadata": {},
   "outputs": [],
   "source": [
    "html_data = response.content"
   ]
  },
  {
   "cell_type": "code",
   "execution_count": 44,
   "id": "4036f9b0",
   "metadata": {},
   "outputs": [],
   "source": [
    "html = BeautifulSoup(html_data, \"html.parser\")"
   ]
  },
  {
   "cell_type": "code",
   "execution_count": 45,
   "id": "dc54291f",
   "metadata": {},
   "outputs": [],
   "source": [
    "data = html.findAll(\"img\")"
   ]
  },
  {
   "cell_type": "code",
   "execution_count": 46,
   "id": "e617a43f",
   "metadata": {},
   "outputs": [],
   "source": [
    "data.remove(data[0])"
   ]
  },
  {
   "cell_type": "code",
   "execution_count": 47,
   "id": "e8b0b428",
   "metadata": {},
   "outputs": [
    {
     "data": {
      "text/plain": [
       "20"
      ]
     },
     "execution_count": 47,
     "metadata": {},
     "output_type": "execute_result"
    }
   ],
   "source": [
    "len(data)"
   ]
  },
  {
   "cell_type": "code",
   "execution_count": 17,
   "id": "8fdd9f48",
   "metadata": {},
   "outputs": [],
   "source": [
    "save_dir = \"scrap_images/\"\n",
    "if not os.path.exists(save_dir):\n",
    "    os.makedirs(save_dir)"
   ]
  },
  {
   "cell_type": "code",
   "execution_count": 19,
   "id": "b2f1def7",
   "metadata": {},
   "outputs": [],
   "source": [
    "for i in data:\n",
    "    image_link = i['src']\n",
    "    image_data = requests.get(image_link).content\n",
    "    \n",
    "    with open (os.path.join(save_dir, f\"image_{data.index(i)}.jpg\"), \"wb\") as file:\n",
    "        file.write(image_data)"
   ]
  },
  {
   "cell_type": "code",
   "execution_count": 20,
   "id": "70ddb111",
   "metadata": {},
   "outputs": [
    {
     "data": {
      "text/plain": [
       "'https://encrypted-tbn0.gstatic.com/images?q=tbn:ANd9GcTJumu1Z7y27Ni7yyD1ofxLiLp93EnWdr2Gg1N3zX-u5vtj_BmWYrLzF5r8OQ&s'"
      ]
     },
     "execution_count": 20,
     "metadata": {},
     "output_type": "execute_result"
    }
   ],
   "source": [
    "data[0]['src']"
   ]
  },
  {
   "cell_type": "code",
   "execution_count": null,
   "id": "78289432",
   "metadata": {},
   "outputs": [],
   "source": []
  },
  {
   "cell_type": "code",
   "execution_count": null,
   "id": "93aa36fb",
   "metadata": {},
   "outputs": [],
   "source": []
  },
  {
   "cell_type": "code",
   "execution_count": null,
   "id": "17b15afa",
   "metadata": {},
   "outputs": [],
   "source": []
  },
  {
   "cell_type": "code",
   "execution_count": null,
   "id": "77d394fa",
   "metadata": {},
   "outputs": [],
   "source": []
  },
  {
   "cell_type": "code",
   "execution_count": null,
   "id": "09eafbff",
   "metadata": {},
   "outputs": [],
   "source": []
  },
  {
   "cell_type": "code",
   "execution_count": null,
   "id": "5a38c2a5",
   "metadata": {},
   "outputs": [],
   "source": []
  },
  {
   "cell_type": "code",
   "execution_count": null,
   "id": "9d113041",
   "metadata": {},
   "outputs": [],
   "source": []
  }
 ],
 "metadata": {
  "kernelspec": {
   "display_name": "Python 3",
   "language": "python",
   "name": "python3"
  },
  "language_info": {
   "codemirror_mode": {
    "name": "ipython",
    "version": 3
   },
   "file_extension": ".py",
   "mimetype": "text/x-python",
   "name": "python",
   "nbconvert_exporter": "python",
   "pygments_lexer": "ipython3",
   "version": "3.8.8"
  }
 },
 "nbformat": 4,
 "nbformat_minor": 5
}
